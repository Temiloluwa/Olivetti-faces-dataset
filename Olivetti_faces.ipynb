{
 "cells": [
  {
   "cell_type": "markdown",
   "metadata": {},
   "source": [
    "## Logistic Regression on Olivetti faces dataset"
   ]
  },
  {
   "cell_type": "markdown",
   "metadata": {},
   "source": [
    "**Information on the dataset can be obtained at <br> ** https://scikit-learn.org/0.19/modules/generated/sklearn.datasets.fetch_olivetti_faces.html#sklearn.datasets.fetch_olivetti_faces"
   ]
  },
  {
   "cell_type": "code",
   "execution_count": 93,
   "metadata": {
    "colab": {
     "base_uri": "https://localhost:8080/",
     "height": 34
    },
    "colab_type": "code",
    "executionInfo": {
     "elapsed": 454,
     "status": "ok",
     "timestamp": 1559315450848,
     "user": {
      "displayName": "Roy Jacuzzi",
      "photoUrl": "",
      "userId": "04564756668878318833"
     },
     "user_tz": -120
    },
    "id": "5eGdt9tyWARQ",
    "outputId": "5b53f1c5-7afc-4a4e-ac13-861c400d4578"
   },
   "outputs": [],
   "source": [
    "#import libraries and fetch data\n",
    "import numpy as np\n",
    "import matplotlib.pyplot as plt\n",
    "import tensorflow as tf\n",
    "from sklearn.utils import shuffle\n",
    "from sklearn.datasets import fetch_olivetti_faces"
   ]
  },
  {
   "cell_type": "markdown",
   "metadata": {},
   "source": [
    "### Data Exploration"
   ]
  },
  {
   "cell_type": "markdown",
   "metadata": {},
   "source": [
    "- Variable data holds 400 examples of the image data\n",
    "- Variable target holds the class each example belongs to.\n",
    "- The target classes are one hot encoded\n",
    "- A sample image is visualized\n",
    "- Data is split into train and test sets in ratio 90:10"
   ]
  },
  {
   "cell_type": "code",
   "execution_count": 94,
   "metadata": {},
   "outputs": [],
   "source": [
    "data = fetch_olivetti_faces(shuffle = True, random_state = 5)\n",
    "target = data.target\n",
    "data = data.data"
   ]
  },
  {
   "cell_type": "code",
   "execution_count": 95,
   "metadata": {},
   "outputs": [
    {
     "data": {
      "text/plain": [
       "400"
      ]
     },
     "execution_count": 95,
     "metadata": {},
     "output_type": "execute_result"
    }
   ],
   "source": [
    "classes = 40\n",
    "no_of_examples = data.shape[0]\n",
    "no_of_examples"
   ]
  },
  {
   "cell_type": "code",
   "execution_count": 96,
   "metadata": {
    "colab": {},
    "colab_type": "code",
    "id": "yW_E-4WyKB3u"
   },
   "outputs": [],
   "source": [
    "Y_hot = np.zeros((no_of_examples,classes), dtype = \"float32\")\n",
    "Y_hot[np.arange(no_of_examples), target]  = 1"
   ]
  },
  {
   "cell_type": "code",
   "execution_count": 97,
   "metadata": {},
   "outputs": [
    {
     "data": {
      "text/plain": [
       "<matplotlib.image.AxesImage at 0x2c280ca2390>"
      ]
     },
     "execution_count": 97,
     "metadata": {},
     "output_type": "execute_result"
    },
    {
     "data": {
      "image/png": "[encoded data removed]",
      "text/plain": [
       "<matplotlib.figure.Figure at 0x2c280bee9e8>"
      ]
     },
     "metadata": {},
     "output_type": "display_data"
    }
   ],
   "source": [
    "plt.imshow(data[34].reshape(64,64))"
   ]
  },
  {
   "cell_type": "code",
   "execution_count": 98,
   "metadata": {
    "colab": {},
    "colab_type": "code",
    "id": "9XXK2n6qA_G0"
   },
   "outputs": [],
   "source": [
    "m_train = int(0.9*no_of_examples) #number of training examples\n",
    "X_train = data[:m_train]\n",
    "X_test  = data[m_train:]\n",
    "Y_train = Y_hot[:m_train]\n",
    "Y_test  = Y_hot[m_train:]"
   ]
  },
  {
   "cell_type": "markdown",
   "metadata": {},
   "source": [
    "## Model Training"
   ]
  },
  {
   "cell_type": "markdown",
   "metadata": {},
   "source": [
    "- The matrix product of weights and the input data is fed into a softmax function\n",
    "- The cost function is the cross enthropy loss \n",
    "- A batch size of 10 is set for this model\n",
    "- The chosen learning rate is 0.001\n",
    "- The chosen optimizer is the AdamOptimizer"
   ]
  },
  {
   "cell_type": "code",
   "execution_count": 99,
   "metadata": {
    "colab": {},
    "colab_type": "code",
    "id": "gUZ92DMLCnnU"
   },
   "outputs": [],
   "source": [
    "lr = 0.001\n",
    "epochs = 50\n",
    "bs = 10\n",
    "losses = []\n",
    "train_acces = []\n",
    "test_acces = []\n",
    "\n",
    "X = tf.placeholder(tf.float32,[None, 4096])\n",
    "Y = tf.placeholder(tf.float32,[None, 40])\n",
    "\n",
    "W = tf.Variable(np.zeros((4096,40), dtype = \"float32\"))\n",
    "b = tf.Variable(np.zeros(40), dtype = \"float32\")\n",
    "\n",
    "model = tf.nn.softmax(tf.matmul(X,W) + b)\n",
    "loss = -tf.reduce_mean(Y*tf.log(model))\n",
    "optimizer = tf.train.AdamOptimizer(lr).minimize(loss)\n",
    "init = tf.global_variables_initializer()\n",
    "\n",
    "accuracy = tf.reduce_mean(tf.cast(tf.equal(tf.argmax(model,1),tf.argmax(Y,1)),dtype = tf.float32))"
   ]
  },
  {
   "cell_type": "code",
   "execution_count": 100,
   "metadata": {
    "colab": {
     "base_uri": "https://localhost:8080/",
     "height": 901
    },
    "colab_type": "code",
    "executionInfo": {
     "elapsed": 16256,
     "status": "ok",
     "timestamp": 1559129618947,
     "user": {
      "displayName": "Roy Jacuzzi",
      "photoUrl": "",
      "userId": "04564756668878318833"
     },
     "user_tz": -120
    },
    "id": "kQyGG9qcGLY4",
    "outputId": "8546c3f6-f2e7-4598-e975-c75020bce635"
   },
   "outputs": [
    {
     "name": "stdout",
     "output_type": "stream",
     "text": [
      "cost for epoch  10 is  0.024141143490042948\n",
      "cost for epoch  20 is  0.0075949449803576685\n",
      "cost for epoch  30 is  0.005238523148970369\n",
      "cost for epoch  40 is  0.0014832103641108714\n",
      "cost for epoch  50 is  0.000998747476033815\n",
      "training accuracy:  1.0\n",
      "test accuracy:  0.875\n"
     ]
    }
   ],
   "source": [
    "with tf.Session() as s:\n",
    "  s.run(init)\n",
    "  for epoch in range(epochs):\n",
    "    cost = 0\n",
    "    X_train,Y_train = shuffle(X_train,Y_train,random_state=5)\n",
    "    no_of_bs = int(X_train.shape[0]/bs)\n",
    "    \n",
    "    for i in range(no_of_bs):\n",
    "      bx = X_train[i*bs:(i+1)*bs] \n",
    "      by = Y_train[i*bs:(i+1)*bs]\n",
    "      _,l = s.run([optimizer, loss], feed_dict = { X:bx, Y:by})\n",
    "      cost += l/no_of_bs\n",
    "    if epoch % 10 == 9:\n",
    "        print(\"cost for epoch \", epoch+1 , \"is \", cost)\n",
    "    losses.append(cost)\n",
    "    train_acc = s.run(accuracy , feed_dict = {X:X_train,Y:Y_train})\n",
    "    test_acc = s.run(accuracy , feed_dict = {X:X_test,Y:Y_test})\n",
    "    train_acces.append(train_acc)\n",
    "    test_acces.append(test_acc)    \n",
    "\n",
    "  print(\"training accuracy: \", train_acc)\n",
    "  print(\"test accuracy: \", test_acc)"
   ]
  },
  {
   "cell_type": "code",
   "execution_count": 101,
   "metadata": {
    "colab": {
     "base_uri": "https://localhost:8080/",
     "height": 286
    },
    "colab_type": "code",
    "executionInfo": {
     "elapsed": 16055,
     "status": "ok",
     "timestamp": 1559129618949,
     "user": {
      "displayName": "Roy Jacuzzi",
      "photoUrl": "",
      "userId": "04564756668878318833"
     },
     "user_tz": -120
    },
    "id": "FNzWALWqC7w2",
    "outputId": "35dc06a2-73be-4b32-a5c1-248bb08bc5ac"
   },
   "outputs": [
    {
     "data": {
      "text/plain": [
       "<matplotlib.legend.Legend at 0x2c281dcbe80>"
      ]
     },
     "execution_count": 101,
     "metadata": {},
     "output_type": "execute_result"
    },
    {
     "data": {
      "image/png": "[encoded data removed]",
      "text/plain": [
       "<matplotlib.figure.Figure at 0x2c281db3470>"
      ]
     },
     "metadata": {},
     "output_type": "display_data"
    }
   ],
   "source": [
    "plt.xlabel(\"Epochs\")\n",
    "plt.ylabel(\"Loss\")\n",
    "plt.title(\"Loss per Epoch\")\n",
    "plt.plot(losses,\"b-\", label = \"losses\")\n",
    "plt.legend()"
   ]
  },
  {
   "cell_type": "code",
   "execution_count": 102,
   "metadata": {
    "colab": {
     "base_uri": "https://localhost:8080/",
     "height": 269
    },
    "colab_type": "code",
    "executionInfo": {
     "elapsed": 15878,
     "status": "ok",
     "timestamp": 1559129618952,
     "user": {
      "displayName": "Roy Jacuzzi",
      "photoUrl": "",
      "userId": "04564756668878318833"
     },
     "user_tz": -120
    },
    "id": "OiRb3XEyUDhN",
    "outputId": "be37d8d6-fed0-4e16-f83f-0102d8bc5488"
   },
   "outputs": [
    {
     "data": {
      "image/png": "[encoded data removed]",
      "text/plain": [
       "<matplotlib.figure.Figure at 0x2c281db3358>"
      ]
     },
     "metadata": {},
     "output_type": "display_data"
    }
   ],
   "source": [
    "plt.xlabel(\"Epochs\")\n",
    "plt.ylabel(\"Accuracy\")\n",
    "plt.title(\"Accuracy per Epoch\")\n",
    "plt.plot(train_acces, label = \"training accuracy\")\n",
    "plt.plot(test_acces,\"r-\", label = \"test accuracy\")\n",
    "plt.legend()\n",
    "plt.show()"
   ]
  },
  {
   "cell_type": "code",
   "execution_count": null,
   "metadata": {},
   "outputs": [],
   "source": []
  }
 ],
 "metadata": {
  "accelerator": "GPU",
  "colab": {
   "collapsed_sections": [],
   "name": "DDA_Ex_5_2a.ipynb",
   "provenance": [
    {
     "file_id": "14afNon5N72HGBptcgTlyU3e14ce80PZz",
     "timestamp": 1559122882497
    },
    {
     "file_id": "1M6oQLIaFBx8kEyt2U7m3Kv7oVbudJYGw",
     "timestamp": 1559056094794
    }
   ],
   "version": "0.3.2"
  },
  "kernelspec": {
   "display_name": "Python 3",
   "language": "python",
   "name": "python3"
  },
  "language_info": {
   "codemirror_mode": {
    "name": "ipython",
    "version": 3
   },
   "file_extension": ".py",
   "mimetype": "text/x-python",
   "name": "python",
   "nbconvert_exporter": "python",
   "pygments_lexer": "ipython3",
   "version": "3.5.4"
  }
 },
 "nbformat": 4,
 "nbformat_minor": 1
}
